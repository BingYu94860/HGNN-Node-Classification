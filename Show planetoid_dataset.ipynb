{
 "cells": [
  {
   "cell_type": "code",
   "execution_count": null,
   "metadata": {
    "ExecuteTime": {
     "end_time": "2021-07-09T16:44:33.135084Z",
     "start_time": "2021-07-09T16:44:33.123117Z"
    }
   },
   "outputs": [],
   "source": [
    "# !python planetoid_dataset.py\n",
    "\n",
    "import os, sys, requests, collections, random\n",
    "import numpy as np\n",
    "import scipy.sparse as sp\n",
    "import networkx as nx\n",
    "import pickle as pkl\n",
    "\n",
    "from planetoid_dataset import load_planetoid, get_labels_mask\n",
    "from citation_dataset import show_labels_info"
   ]
  },
  {
   "cell_type": "code",
   "execution_count": null,
   "metadata": {
    "ExecuteTime": {
     "end_time": "2021-07-09T16:44:33.810709Z",
     "start_time": "2021-07-09T16:44:33.561350Z"
    }
   },
   "outputs": [],
   "source": [
    "dataset = load_planetoid('cora') # ['cora', 'citeseer', 'pubmed']\n",
    "\n",
    "labels_mask_info = get_labels_mask(dataset, split='public') # ['public', 'random']\n",
    "#labels_mask_info = get_labels_mask(dataset, split='random')\n",
    "\n",
    "labels_info = show_labels_info(dataset)"
   ]
  },
  {
   "cell_type": "code",
   "execution_count": null,
   "metadata": {
    "ExecuteTime": {
     "end_time": "2021-07-09T16:44:35.308430Z",
     "start_time": "2021-07-09T16:44:34.704863Z"
    }
   },
   "outputs": [],
   "source": [
    "dataset = load_planetoid('citeseer') # ['cora', 'citeseer', 'pubmed']\n",
    "\n",
    "labels_mask_info = get_labels_mask(dataset, split='public') # ['public', 'random']\n",
    "#labels_mask_info = get_labels_mask(dataset, split='random')\n",
    "\n",
    "labels_info = show_labels_info(dataset)"
   ]
  },
  {
   "cell_type": "code",
   "execution_count": null,
   "metadata": {
    "ExecuteTime": {
     "end_time": "2021-07-09T16:44:36.778145Z",
     "start_time": "2021-07-09T16:44:36.134006Z"
    }
   },
   "outputs": [],
   "source": [
    "dataset = load_planetoid('pubmed') # ['cora', 'citeseer', 'pubmed']\n",
    "\n",
    "labels_mask_info = get_labels_mask(dataset, split='public') # ['public', 'random']\n",
    "#labels_mask_info = get_labels_mask(dataset, split='random')\n",
    "\n",
    "labels_info = show_labels_info(dataset)"
   ]
  },
  {
   "cell_type": "code",
   "execution_count": null,
   "metadata": {},
   "outputs": [],
   "source": []
  }
 ],
 "metadata": {
  "kernelspec": {
   "display_name": "Python 3",
   "language": "python",
   "name": "python3"
  },
  "language_info": {
   "codemirror_mode": {
    "name": "ipython",
    "version": 3
   },
   "file_extension": ".py",
   "mimetype": "text/x-python",
   "name": "python",
   "nbconvert_exporter": "python",
   "pygments_lexer": "ipython3",
   "version": "3.8.5"
  },
  "varInspector": {
   "cols": {
    "lenName": 16,
    "lenType": 16,
    "lenVar": 40
   },
   "kernels_config": {
    "python": {
     "delete_cmd_postfix": "",
     "delete_cmd_prefix": "del ",
     "library": "var_list.py",
     "varRefreshCmd": "print(var_dic_list())"
    },
    "r": {
     "delete_cmd_postfix": ") ",
     "delete_cmd_prefix": "rm(",
     "library": "var_list.r",
     "varRefreshCmd": "cat(var_dic_list()) "
    }
   },
   "oldHeight": 192.4,
   "position": {
    "height": "40px",
    "left": "680.8px",
    "right": "20px",
    "top": "15px",
    "width": "681px"
   },
   "types_to_exclude": [
    "module",
    "function",
    "builtin_function_or_method",
    "instance",
    "_Feature"
   ],
   "varInspector_section_display": "none",
   "window_display": true
  }
 },
 "nbformat": 4,
 "nbformat_minor": 4
}
