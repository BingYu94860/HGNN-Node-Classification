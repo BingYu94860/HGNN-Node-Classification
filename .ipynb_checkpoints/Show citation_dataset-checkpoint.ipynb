{
 "cells": [
  {
   "cell_type": "code",
   "execution_count": null,
   "metadata": {
    "ExecuteTime": {
     "end_time": "2021-07-09T17:15:57.057155Z",
     "start_time": "2021-07-09T17:15:56.471296Z"
    },
    "code_folding": []
   },
   "outputs": [],
   "source": [
    "# !python citation_dataset.py\n",
    "\n",
    "import os, tarfile, csv, requests\n",
    "import numpy as np\n",
    "import scipy.sparse as sp\n",
    "\n",
    "from citation_dataset import load_dataset, show_dataset_info, download_read_dataset\n",
    "from planetoid_dataset import random_labels_mask"
   ]
  },
  {
   "cell_type": "code",
   "execution_count": null,
   "metadata": {
    "ExecuteTime": {
     "end_time": "2021-07-09T17:16:02.870870Z",
     "start_time": "2021-07-09T17:15:57.089832Z"
    },
    "hide_input": false
   },
   "outputs": [],
   "source": [
    "dataset = load_dataset('cora') # ['cora', 'citeseer', 'pubmed']\n",
    "dataset_info = show_dataset_info(dataset)\n",
    "labels_mask_info = random_labels_mask(dataset)"
   ]
  },
  {
   "cell_type": "code",
   "execution_count": null,
   "metadata": {
    "ExecuteTime": {
     "end_time": "2021-07-09T17:16:20.421127Z",
     "start_time": "2021-07-09T17:16:02.936665Z"
    }
   },
   "outputs": [],
   "source": [
    "dataset = load_dataset('citeseer') # ['cora', 'citeseer', 'pubmed']\n",
    "dataset_info = show_dataset_info(dataset)\n",
    "labels_mask_info = random_labels_mask(dataset)"
   ]
  },
  {
   "cell_type": "code",
   "execution_count": null,
   "metadata": {
    "ExecuteTime": {
     "end_time": "2021-07-09T17:16:42.372080Z",
     "start_time": "2021-07-09T17:16:20.486951Z"
    }
   },
   "outputs": [],
   "source": [
    "dataset = load_dataset('pubmed') # ['cora', 'citeseer', 'pubmed']\n",
    "dataset_info = show_dataset_info(dataset)\n",
    "labels_mask_info = random_labels_mask(dataset)"
   ]
  },
  {
   "cell_type": "code",
   "execution_count": null,
   "metadata": {},
   "outputs": [],
   "source": []
  }
 ],
 "metadata": {
  "kernelspec": {
   "display_name": "Python 3",
   "language": "python",
   "name": "python3"
  },
  "language_info": {
   "codemirror_mode": {
    "name": "ipython",
    "version": 3
   },
   "file_extension": ".py",
   "mimetype": "text/x-python",
   "name": "python",
   "nbconvert_exporter": "python",
   "pygments_lexer": "ipython3",
   "version": "3.8.5"
  },
  "varInspector": {
   "cols": {
    "lenName": 16,
    "lenType": 16,
    "lenVar": 40
   },
   "kernels_config": {
    "python": {
     "delete_cmd_postfix": "",
     "delete_cmd_prefix": "del ",
     "library": "var_list.py",
     "varRefreshCmd": "print(var_dic_list())"
    },
    "r": {
     "delete_cmd_postfix": ") ",
     "delete_cmd_prefix": "rm(",
     "library": "var_list.r",
     "varRefreshCmd": "cat(var_dic_list()) "
    }
   },
   "types_to_exclude": [
    "module",
    "function",
    "builtin_function_or_method",
    "instance",
    "_Feature"
   ],
   "window_display": false
  }
 },
 "nbformat": 4,
 "nbformat_minor": 4
}
